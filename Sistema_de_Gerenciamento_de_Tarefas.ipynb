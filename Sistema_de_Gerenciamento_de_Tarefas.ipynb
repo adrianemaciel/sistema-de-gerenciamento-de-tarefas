{
  "nbformat": 4,
  "nbformat_minor": 0,
  "metadata": {
    "colab": {
      "provenance": [],
      "authorship_tag": "ABX9TyMfYsJrYtVVrrAT9rBvD8tV",
      "include_colab_link": true
    },
    "kernelspec": {
      "name": "python3",
      "display_name": "Python 3"
    },
    "language_info": {
      "name": "python"
    }
  },
  "cells": [
    {
      "cell_type": "markdown",
      "metadata": {
        "id": "view-in-github",
        "colab_type": "text"
      },
      "source": [
        "<a href=\"https://colab.research.google.com/github/adrianemaciel/sistema-de-gerenciamento-de-tarefas/blob/main/Sistema_de_Gerenciamento_de_Tarefas.ipynb\" target=\"_parent\"><img src=\"https://colab.research.google.com/assets/colab-badge.svg\" alt=\"Open In Colab\"/></a>"
      ]
    },
    {
      "cell_type": "code",
      "execution_count": null,
      "metadata": {
        "id": "ZooOiPZPab1A"
      },
      "outputs": [],
      "source": [
        "\n",
        "tarefas = []\n",
        "\n",
        "def adicionar_tarefa():\n",
        "    tarefa = input(\"Digite a descrição da nova tarefa: \")\n",
        "    tarefas.append({\"tarefa\": tarefa, \"concluida\": False})\n",
        "    print(f\"Tarefa '{tarefa}' adicionada com sucesso!\")\n",
        "\n",
        "def listar_tarefas():\n",
        "    if len(tarefas) == 0:\n",
        "        print(\"Nenhuma tarefa adicionada.\")\n",
        "    else:\n",
        "        print(\"\\nTarefas:\")\n",
        "        for idx, tarefa in enumerate(tarefas):\n",
        "            status = \"Concluída\" if tarefa[\"concluida\"] else \"Pendente\"\n",
        "            print(f\"{idx + 1}. {tarefa['tarefa']} - {status}\")\n",
        "\n",
        "def editar_tarefa():\n",
        "    listar_tarefas()\n",
        "    try:\n",
        "        indice = int(input(\"\\nDigite o número da tarefa que deseja editar: \")) - 1\n",
        "        if 0 <= indice < len(tarefas):\n",
        "            nova_tarefa = input(\"Digite a nova descrição da tarefa: \")\n",
        "            tarefas[indice][\"tarefa\"] = nova_tarefa\n",
        "            print(\"Tarefa atualizada com sucesso!\")\n",
        "        else:\n",
        "            print(\"Tarefa não encontrada.\")\n",
        "    except ValueError:\n",
        "        print(\"Entrada inválida, por favor digite um número.\")\n",
        "\n",
        "def remover_tarefa():\n",
        "    listar_tarefas()\n",
        "    try:\n",
        "        indice = int(input(\"\\nDigite o número da tarefa que deseja remover: \")) - 1\n",
        "        if 0 <= indice < len(tarefas):\n",
        "            tarefa_removida = tarefas.pop(indice)\n",
        "            print(f\"Tarefa '{tarefa_removida['tarefa']}' removida com sucesso!\")\n",
        "        else:\n",
        "            print(\"Tarefa não encontrada.\")\n",
        "    except ValueError:\n",
        "        print(\"Entrada inválida, por favor digite um número.\")\n",
        "\n",
        "def marcar_concluida():\n",
        "    listar_tarefas()\n",
        "    try:\n",
        "        indice = int(input(\"\\nDigite o número da tarefa que deseja marcar como concluída: \")) - 1\n",
        "        if 0 <= indice < len(tarefas):\n",
        "            tarefas[indice][\"concluida\"] = True\n",
        "            print(f\"Tarefa '{tarefas[indice]['tarefa']}' marcada como concluída!\")\n",
        "        else:\n",
        "            print(\"Tarefa não encontrada.\")\n",
        "    except ValueError:\n",
        "        print(\"Entrada inválida, por favor digite um número.\")\n",
        "\n",
        "def menu():\n",
        "    while True:\n",
        "        print(\"\\nSistema de Gerenciamento de Tarefas\")\n",
        "        print(\"1. Adicionar Tarefa\")\n",
        "        print(\"2. Listar Tarefas\")\n",
        "        print(\"3. Editar Tarefa\")\n",
        "        print(\"4. Remover Tarefa\")\n",
        "        print(\"5. Marcar Tarefa como Concluída\")\n",
        "        print(\"6. Sair\")\n",
        "\n",
        "        opcao = input(\"\\n Escolha uma opção: \")\n",
        "\n",
        "        if opcao == '1':\n",
        "            adicionar_tarefa()\n",
        "        elif opcao == '2':\n",
        "            listar_tarefas()\n",
        "        elif opcao == '3':\n",
        "            editar_tarefa()\n",
        "        elif opcao == '4':\n",
        "            remover_tarefa()\n",
        "        elif opcao == '5':\n",
        "            marcar_concluida()\n",
        "        elif opcao == '6':\n",
        "            print(\"Saindo do sistema...\")\n",
        "            break\n",
        "        else:\n",
        "            print(\"Opção inválida. Tente novamente.\")\n",
        "\n",
        "menu()\n"
      ]
    }
  ]
}